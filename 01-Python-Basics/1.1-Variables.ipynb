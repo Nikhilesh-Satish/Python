{
 "cells": [
  {
   "cell_type": "code",
   "execution_count": 1,
   "id": "a4752ef6",
   "metadata": {},
   "outputs": [],
   "source": [
    "a=100"
   ]
  },
  {
   "cell_type": "code",
   "execution_count": 2,
   "id": "b8549f2b",
   "metadata": {},
   "outputs": [],
   "source": [
    "## Declaring and assigning variables"
   ]
  },
  {
   "cell_type": "code",
   "execution_count": 1,
   "id": "36d9ef61",
   "metadata": {},
   "outputs": [],
   "source": [
    "## Declaration and assignment of multiple variables\n",
    "age=32\n",
    "height=6.1\n",
    "name=\"Abcd\"\n",
    "is_Student=True\n",
    "\n"
   ]
  },
  {
   "cell_type": "code",
   "execution_count": 5,
   "id": "f8a7860f",
   "metadata": {},
   "outputs": [],
   "source": [
    "## Naming conventions\n",
    "## Variable names should be descriptive\n",
    "## Always start with letter or _ and contains letters, numbers and underscores\n",
    "## variable names case sensitive"
   ]
  },
  {
   "cell_type": "code",
   "execution_count": 6,
   "id": "ce2b3546",
   "metadata": {},
   "outputs": [],
   "source": [
    "## Variable types\n",
    "## Python is dynamically typed-types are inferred during runtime\n",
    "\n"
   ]
  },
  {
   "cell_type": "code",
   "execution_count": 7,
   "id": "882bc3cd",
   "metadata": {},
   "outputs": [
    {
     "name": "stdout",
     "output_type": "stream",
     "text": [
      "<class 'int'>\n",
      "<class 'str'>\n"
     ]
    }
   ],
   "source": [
    "# Type conversion\n",
    "age=25\n",
    "print(type(age))\n",
    "age_str=str(age)\n",
    "print(type(age_str))\n"
   ]
  },
  {
   "cell_type": "code",
   "execution_count": 9,
   "id": "7d5613b1",
   "metadata": {},
   "outputs": [
    {
     "name": "stdout",
     "output_type": "stream",
     "text": [
      "<class 'int'>\n"
     ]
    }
   ],
   "source": [
    "age='25'\n",
    "print(type(int(age)))"
   ]
  },
  {
   "cell_type": "code",
   "execution_count": 10,
   "id": "1a30170f",
   "metadata": {},
   "outputs": [],
   "source": [
    "## Python allows type of variable to change as program runs\n"
   ]
  },
  {
   "cell_type": "code",
   "execution_count": 11,
   "id": "a5f97dc0",
   "metadata": {},
   "outputs": [
    {
     "name": "stdout",
     "output_type": "stream",
     "text": [
      "23 <class 'str'>\n"
     ]
    }
   ],
   "source": [
    "#input\n",
    "age=input(\"Enter your age: \")\n",
    "print(age,type(age))"
   ]
  },
  {
   "cell_type": "code",
   "execution_count": 12,
   "id": "0055e868",
   "metadata": {},
   "outputs": [
    {
     "name": "stdout",
     "output_type": "stream",
     "text": [
      "23 <class 'int'>\n"
     ]
    }
   ],
   "source": [
    "age=int(input(\"Enter your age: \"))\n",
    "print(age,type(age))"
   ]
  },
  {
   "cell_type": "code",
   "execution_count": null,
   "id": "1b40ac31",
   "metadata": {},
   "outputs": [],
   "source": []
  }
 ],
 "metadata": {
  "kernelspec": {
   "display_name": "Python 3",
   "language": "python",
   "name": "python3"
  },
  "language_info": {
   "codemirror_mode": {
    "name": "ipython",
    "version": 3
   },
   "file_extension": ".py",
   "mimetype": "text/x-python",
   "name": "python",
   "nbconvert_exporter": "python",
   "pygments_lexer": "ipython3",
   "version": "3.10.18"
  }
 },
 "nbformat": 4,
 "nbformat_minor": 5
}
