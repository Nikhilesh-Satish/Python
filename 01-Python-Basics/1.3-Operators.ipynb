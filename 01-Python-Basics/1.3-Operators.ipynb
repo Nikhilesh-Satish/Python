{
 "cells": [
  {
   "cell_type": "code",
   "execution_count": null,
   "id": "fb9e5ef9",
   "metadata": {},
   "outputs": [],
   "source": [
    "## Arithmetic\n",
    "\n",
    "## Addition(+), Subtraction(-), Multiplication(*), Division(/), Floor Division(//), Modulus(%), Exponentiation(**)"
   ]
  },
  {
   "cell_type": "code",
   "execution_count": null,
   "id": "a00cc64b",
   "metadata": {},
   "outputs": [],
   "source": [
    "## Comparison\n",
    "\n",
    "## Equal(==), Not Equal(!=), Greater than(>), Less than(<), Greater than or equal to(>=), Less than or equal to(<=)"
   ]
  },
  {
   "cell_type": "code",
   "execution_count": null,
   "id": "f5d11b42",
   "metadata": {},
   "outputs": [],
   "source": [
    "# Logical\n",
    "\n",
    "## and, not, or"
   ]
  },
  {
   "cell_type": "code",
   "execution_count": null,
   "id": "663fdf61",
   "metadata": {},
   "outputs": [],
   "source": []
  }
 ],
 "metadata": {
  "kernelspec": {
   "display_name": "Python 3",
   "language": "python",
   "name": "python3"
  },
  "language_info": {
   "name": "python",
   "version": "3.10.18"
  }
 },
 "nbformat": 4,
 "nbformat_minor": 5
}
