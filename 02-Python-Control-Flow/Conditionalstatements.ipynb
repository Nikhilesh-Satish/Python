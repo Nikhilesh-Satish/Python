{
 "cells": [
  {
   "cell_type": "code",
   "execution_count": null,
   "id": "f247c272",
   "metadata": {},
   "outputs": [],
   "source": [
    "num=5\n",
    "if num%2==0:\n",
    "    print(\"Even\")\n",
    "else:\n",
    "    print(\"Odd\")\n",
    "\n",
    "## elif is used for else if\n",
    "\n"
   ]
  }
 ],
 "metadata": {
  "language_info": {
   "name": "python"
  }
 },
 "nbformat": 4,
 "nbformat_minor": 5
}
